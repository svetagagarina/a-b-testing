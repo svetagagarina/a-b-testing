{
 "cells": [
  {
   "cell_type": "markdown",
   "metadata": {},
   "source": [
    "**Задание 1. A/B–тестирование**\n",
    "\n",
    "1.1 Условие\n",
    "\n",
    "Одной из основных задач аналитика в нашей команде является корректное проведение экспериментов. Для этого мы применяем метод A/B–тестирования. В ходе тестирования одной гипотезы целевой группе была предложена новая механика оплаты услуг на сайте, у контрольной группы оставалась базовая механика. В качестве задания Вам необходимо проанализировать итоги эксперимента и сделать вывод, стоит ли запускать новую механику оплаты на всех пользователей."
   ]
  },
  {
   "cell_type": "code",
   "execution_count": 5,
   "metadata": {},
   "outputs": [],
   "source": [
    "import pandas as pd\n",
    "import numpy as np\n",
    "import seaborn as sns\n",
    "from matplotlib import pyplot as plt\n",
    "from scipy.stats import norm\n",
    "import math\n",
    "import scipy.stats\n",
    "\n",
    "pallet_name = \"Pastel2\"\n",
    "my_pallet = sns.color_palette(pallet_name)\n",
    "sns.set_palette(pallet_name, n_colors=7)"
   ]
  },
  {
   "cell_type": "code",
   "execution_count": 6,
   "metadata": {},
   "outputs": [],
   "source": [
    "active_studs = pd.read_csv(\"Проект_2_active_studs.csv\")\n",
    "checks = pd.read_csv(\n",
    "    \"Проект_2_checks.csv\",\n",
    "    sep=\";\",\n",
    "    names=[\"student_id\", \"revenue\"],\n",
    "    header=None,\n",
    "    skiprows=1,\n",
    ")\n",
    "group_add = pd.read_csv(\n",
    "    \"Проект_2_group_add.csv\",\n",
    "    sep=\",\",\n",
    "    names=[\"student_id\", \"group\"],\n",
    "    header=None,\n",
    "    skiprows=1,\n",
    ")\n",
    "groups = pd.read_csv(\n",
    "    \"Проект_2_groups.csv\",\n",
    "    sep=\";\",\n",
    "    names=[\"student_id\", \"group\"],\n",
    "    header=None,\n",
    "    skiprows=1,\n",
    ")"
   ]
  },
  {
   "cell_type": "markdown",
   "metadata": {},
   "source": [
    "в файле **groups** находятся id студентов и принадлежность к группе. \n",
    "* Проверим на дубликаты айдишники\n",
    "* Посмотрим на распределение студентов по группам"
   ]
  },
  {
   "cell_type": "code",
   "execution_count": 7,
   "metadata": {},
   "outputs": [
    {
     "data": {
      "text/plain": [
       "(74484, 2)"
      ]
     },
     "execution_count": 7,
     "metadata": {},
     "output_type": "execute_result"
    }
   ],
   "source": [
    "groups.shape"
   ]
  },
  {
   "cell_type": "code",
   "execution_count": 8,
   "metadata": {},
   "outputs": [
    {
     "data": {
      "text/plain": [
       "student_id    74484\n",
       "group             2\n",
       "dtype: int64"
      ]
     },
     "execution_count": 8,
     "metadata": {},
     "output_type": "execute_result"
    }
   ],
   "source": [
    "groups.nunique()"
   ]
  },
  {
   "cell_type": "code",
   "execution_count": 9,
   "metadata": {},
   "outputs": [
    {
     "name": "stderr",
     "output_type": "stream",
     "text": [
      "/var/folders/46/9vffld4939lbtd69_c_ftcx80000gn/T/ipykernel_83786/885273090.py:4: FutureWarning: \n",
      "\n",
      "Passing `palette` without assigning `hue` is deprecated and will be removed in v0.14.0. Assign the `x` variable to `hue` and set `legend=False` for the same effect.\n",
      "\n",
      "  sns.barplot(\n"
     ]
    },
    {
     "data": {
      "image/png": "[encoded data removed]",
      "text/plain": [
       "<Figure size 640x480 with 1 Axes>"
      ]
     },
     "metadata": {},
     "output_type": "display_data"
    }
   ],
   "source": [
    "groups = groups.sort_values(\"group\")\n",
    "distr_by_group = groups.group.value_counts(sort=False)\n",
    "\n",
    "sns.barplot(\n",
    "    x=distr_by_group.index, y=distr_by_group.values, palette=\"pastel\"\n",
    ").set_title(\"students by group\")\n",
    "plt.show()"
   ]
  },
  {
   "cell_type": "markdown",
   "metadata": {},
   "source": [
    "в тестовой группе в 4 раза больше студентов, распределение неравномерно."
   ]
  },
  {
   "cell_type": "markdown",
   "metadata": {},
   "source": [
    "**active_studs** - файл с студентами, которые проявляли активность во время эксперимента. \n",
    "* Проверим на дубликаты и убедимся, что всем присвоена группа.\n",
    "* Добавим в файл group столбец с информацией, активен ли студент."
   ]
  },
  {
   "cell_type": "code",
   "execution_count": 10,
   "metadata": {},
   "outputs": [
    {
     "data": {
      "text/plain": [
       "(8341, 1)"
      ]
     },
     "execution_count": 10,
     "metadata": {},
     "output_type": "execute_result"
    }
   ],
   "source": [
    "active_studs.shape"
   ]
  },
  {
   "cell_type": "code",
   "execution_count": 11,
   "metadata": {},
   "outputs": [
    {
     "data": {
      "text/plain": [
       "student_id    8341\n",
       "dtype: int64"
      ]
     },
     "execution_count": 11,
     "metadata": {},
     "output_type": "execute_result"
    }
   ],
   "source": [
    "active_studs.nunique()"
   ]
  },
  {
   "cell_type": "code",
   "execution_count": 12,
   "metadata": {},
   "outputs": [],
   "source": [
    "groups[\"active\"] = groups.student_id.isin(active_studs.student_id)"
   ]
  },
  {
   "cell_type": "code",
   "execution_count": 13,
   "metadata": {},
   "outputs": [
    {
     "data": {
      "text/html": [
       "<div>\n",
       "<style scoped>\n",
       "    .dataframe tbody tr th:only-of-type {\n",
       "        vertical-align: middle;\n",
       "    }\n",
       "\n",
       "    .dataframe tbody tr th {\n",
       "        vertical-align: top;\n",
       "    }\n",
       "\n",
       "    .dataframe thead th {\n",
       "        text-align: right;\n",
       "    }\n",
       "</style>\n",
       "<table border=\"1\" class=\"dataframe\">\n",
       "  <thead>\n",
       "    <tr style=\"text-align: right;\">\n",
       "      <th></th>\n",
       "      <th>student_id</th>\n",
       "      <th>group</th>\n",
       "      <th>active</th>\n",
       "    </tr>\n",
       "  </thead>\n",
       "  <tbody>\n",
       "    <tr>\n",
       "      <th>41335</th>\n",
       "      <td>1904613</td>\n",
       "      <td>A</td>\n",
       "      <td>False</td>\n",
       "    </tr>\n",
       "    <tr>\n",
       "      <th>14547</th>\n",
       "      <td>653313</td>\n",
       "      <td>A</td>\n",
       "      <td>False</td>\n",
       "    </tr>\n",
       "    <tr>\n",
       "      <th>31973</th>\n",
       "      <td>1439700</td>\n",
       "      <td>A</td>\n",
       "      <td>False</td>\n",
       "    </tr>\n",
       "    <tr>\n",
       "      <th>62807</th>\n",
       "      <td>4078576</td>\n",
       "      <td>A</td>\n",
       "      <td>False</td>\n",
       "    </tr>\n",
       "    <tr>\n",
       "      <th>31976</th>\n",
       "      <td>1439925</td>\n",
       "      <td>A</td>\n",
       "      <td>False</td>\n",
       "    </tr>\n",
       "  </tbody>\n",
       "</table>\n",
       "</div>"
      ],
      "text/plain": [
       "       student_id group  active\n",
       "41335     1904613     A   False\n",
       "14547      653313     A   False\n",
       "31973     1439700     A   False\n",
       "62807     4078576     A   False\n",
       "31976     1439925     A   False"
      ]
     },
     "execution_count": 13,
     "metadata": {},
     "output_type": "execute_result"
    }
   ],
   "source": [
    "groups.head()"
   ]
  },
  {
   "cell_type": "code",
   "execution_count": 14,
   "metadata": {},
   "outputs": [],
   "source": [
    "groups.dropna(subset=[\"group\"], inplace=True)"
   ]
  },
  {
   "cell_type": "markdown",
   "metadata": {},
   "source": [
    "В файле **checks** находится информация об оплатах в дни проведения эксперимента\n",
    "Проверим на дубликаты\n",
    "\n"
   ]
  },
  {
   "cell_type": "code",
   "execution_count": 15,
   "metadata": {},
   "outputs": [
    {
     "data": {
      "text/plain": [
       "(541, 2)"
      ]
     },
     "execution_count": 15,
     "metadata": {},
     "output_type": "execute_result"
    }
   ],
   "source": [
    "checks.shape"
   ]
  },
  {
   "cell_type": "code",
   "execution_count": 16,
   "metadata": {},
   "outputs": [
    {
     "data": {
      "text/plain": [
       "student_id    541\n",
       "revenue        39\n",
       "dtype: int64"
      ]
     },
     "execution_count": 16,
     "metadata": {},
     "output_type": "execute_result"
    }
   ],
   "source": [
    "checks.nunique()"
   ]
  },
  {
   "cell_type": "code",
   "execution_count": 17,
   "metadata": {},
   "outputs": [],
   "source": [
    "checks[\"purchase\"] = True"
   ]
  },
  {
   "cell_type": "code",
   "execution_count": 18,
   "metadata": {},
   "outputs": [],
   "source": [
    "full_data = groups.merge(checks, how=\"left\", on=\"student_id\")"
   ]
  },
  {
   "cell_type": "code",
   "execution_count": 19,
   "metadata": {},
   "outputs": [],
   "source": [
    "# full_data.revenue.fillna(0, inplace=True) #заменяем NaNы на нули в колонке revenue"
   ]
  },
  {
   "cell_type": "code",
   "execution_count": 20,
   "metadata": {},
   "outputs": [
    {
     "data": {
      "text/plain": [
       "(74484, 5)"
      ]
     },
     "execution_count": 20,
     "metadata": {},
     "output_type": "execute_result"
    }
   ],
   "source": [
    "full_data.shape  # все на месте"
   ]
  },
  {
   "cell_type": "code",
   "execution_count": 21,
   "metadata": {},
   "outputs": [
    {
     "data": {
      "text/plain": [
       "541"
      ]
     },
     "execution_count": 21,
     "metadata": {},
     "output_type": "execute_result"
    }
   ],
   "source": [
    "checks.student_id.nunique()  # смотрим, сколько человек совершило покупку"
   ]
  },
  {
   "cell_type": "markdown",
   "metadata": {},
   "source": [
    "посмотрим, были ли покупки у неактивных студентов"
   ]
  },
  {
   "cell_type": "code",
   "execution_count": 22,
   "metadata": {},
   "outputs": [
    {
     "data": {
      "text/plain": [
       "student_id    66156\n",
       "group         66156\n",
       "active        66156\n",
       "revenue         149\n",
       "purchase        149\n",
       "dtype: int64"
      ]
     },
     "execution_count": 22,
     "metadata": {},
     "output_type": "execute_result"
    }
   ],
   "source": [
    "full_data.query(\"revenue != 0 & active == False\").count()"
   ]
  },
  {
   "cell_type": "markdown",
   "metadata": {},
   "source": [
    "149 студентов были не активны, но при этом совершили покупку. Предположим, что платформа работает по подписке и это автоматические списание. \n",
    "* Выберем **целевой** метрикой **CR** - конверсия активного пользователя в покупку.\n",
    "* Посчитаем **ARPPU** - средний доход с платящего пользователя.\n",
    "* Создадим массив с метриками.\n"
   ]
  },
  {
   "cell_type": "code",
   "execution_count": 23,
   "metadata": {},
   "outputs": [],
   "source": [
    "# посмотрим распределение активных и совершивших оплату студентов\n",
    "active_with_payment = (\n",
    "    full_data.query(\"active == True & revenue > 0\").group.value_counts().sort_values()\n",
    ")"
   ]
  },
  {
   "cell_type": "code",
   "execution_count": 24,
   "metadata": {},
   "outputs": [
    {
     "name": "stderr",
     "output_type": "stream",
     "text": [
      "/var/folders/46/9vffld4939lbtd69_c_ftcx80000gn/T/ipykernel_83786/3786138933.py:3: UserWarning: Ignoring `palette` because no `hue` variable has been assigned.\n",
      "  sns.histplot(active_with_payment.revenue, kde=True, bins=15, palette=\"pastel\")\n"
     ]
    },
    {
     "data": {
      "image/png": "[encoded data removed]",
      "text/plain": [
       "<Figure size 640x480 with 1 Axes>"
      ]
     },
     "metadata": {},
     "output_type": "display_data"
    }
   ],
   "source": [
    "active_with_payment = full_data.query(\"active == True & revenue > 0\")\n",
    "# посмотрим на распределение покупок среди активных студентов\n",
    "sns.histplot(active_with_payment.revenue, kde=True, bins=15, palette=\"pastel\")\n",
    "plt.show()"
   ]
  },
  {
   "cell_type": "markdown",
   "metadata": {},
   "source": [
    "распределение неравномерное, много оплат в районе 2 тысяч. посмотрим на топ оплат "
   ]
  },
  {
   "cell_type": "code",
   "execution_count": 25,
   "metadata": {},
   "outputs": [
    {
     "data": {
      "text/plain": [
       "revenue\n",
       "1900.0    127\n",
       "290.0      70\n",
       "199.0      32\n",
       "840.0      24\n",
       "990.0      22\n",
       "Name: count, dtype: int64"
      ]
     },
     "execution_count": 25,
     "metadata": {},
     "output_type": "execute_result"
    }
   ],
   "source": [
    "active_with_payment.revenue.round(2).value_counts().head(5)"
   ]
  },
  {
   "cell_type": "markdown",
   "metadata": {},
   "source": [
    "Больше всего оплат на 1900. Предположу, что это самый популярный продукт платформы.\n",
    "Посмотрим, как распределялись покупки по группам."
   ]
  },
  {
   "cell_type": "code",
   "execution_count": 26,
   "metadata": {},
   "outputs": [
    {
     "data": {
      "image/png": "[encoded data removed]",
      "text/plain": [
       "<Figure size 800x400 with 2 Axes>"
      ]
     },
     "metadata": {},
     "output_type": "display_data"
    }
   ],
   "source": [
    "purchases_by_group = sns.FacetGrid(\n",
    "    active_with_payment, col=\"group\", sharey=False, height=4, hue=\"group\"\n",
    ")\n",
    "\n",
    "purchases_by_group = purchases_by_group.map(sns.histplot, \"revenue\", kde=True, bins=10)\n",
    "purchases_by_group.set_titles(col_template=\"{col_name}\")\n",
    "plt.show()"
   ]
  },
  {
   "cell_type": "markdown",
   "metadata": {},
   "source": [
    "почти все покупки в 1900 пришлись на тестовую группу"
   ]
  },
  {
   "cell_type": "markdown",
   "metadata": {},
   "source": [
    "Построим таблицу с основными метриками."
   ]
  },
  {
   "cell_type": "code",
   "execution_count": 27,
   "metadata": {},
   "outputs": [],
   "source": [
    "full_data[\"revenue_all\"] = full_data.apply(lambda x: max(0, x.revenue), axis=1)\n",
    "full_data[\"revenue_active\"] = full_data.apply(\n",
    "    lambda x: max(0, x.revenue) if x.active else np.nan, axis=1\n",
    ")\n",
    "full_data[\"purchase_active\"] = full_data.apply(\n",
    "    lambda x: x.revenue_active > 0 if x.active else np.nan, axis=1\n",
    ")"
   ]
  },
  {
   "cell_type": "code",
   "execution_count": 28,
   "metadata": {},
   "outputs": [],
   "source": [
    "rename = {\n",
    "    \"active\": \"CR_to_active\",\n",
    "    \"purchase_active\": \"CR_active_to_purchase\",\n",
    "    \"revenue_all\": \"ARPU\",\n",
    "    \"revenue_active\": \"ARPAU\",\n",
    "    \"revenue\": \"ARPPU\",\n",
    "}"
   ]
  },
  {
   "cell_type": "code",
   "execution_count": 29,
   "metadata": {},
   "outputs": [],
   "source": [
    "metrics = (\n",
    "    full_data.groupby(\"group\", as_index=False)\n",
    "    .agg(\n",
    "        {\n",
    "            \"active\": \"mean\",\n",
    "            \"purchase_active\": \"mean\",\n",
    "            \"revenue_all\": \"mean\",\n",
    "            \"revenue_active\": \"mean\",\n",
    "            \"revenue\": \"mean\",\n",
    "        }\n",
    "    )\n",
    "    .rename(columns=rename)\n",
    ")"
   ]
  },
  {
   "cell_type": "code",
   "execution_count": 30,
   "metadata": {},
   "outputs": [
    {
     "data": {
      "text/html": [
       "<style type=\"text/css\">\n",
       "</style>\n",
       "<table id=\"T_b1b1f\">\n",
       "  <thead>\n",
       "    <tr>\n",
       "      <th class=\"blank level0\" >&nbsp;</th>\n",
       "      <th id=\"T_b1b1f_level0_col0\" class=\"col_heading level0 col0\" >group</th>\n",
       "      <th id=\"T_b1b1f_level0_col1\" class=\"col_heading level0 col1\" >CR_to_active</th>\n",
       "      <th id=\"T_b1b1f_level0_col2\" class=\"col_heading level0 col2\" >CR_active_to_purchase</th>\n",
       "      <th id=\"T_b1b1f_level0_col3\" class=\"col_heading level0 col3\" >ARPU</th>\n",
       "      <th id=\"T_b1b1f_level0_col4\" class=\"col_heading level0 col4\" >ARPAU</th>\n",
       "      <th id=\"T_b1b1f_level0_col5\" class=\"col_heading level0 col5\" >ARPPU</th>\n",
       "    </tr>\n",
       "  </thead>\n",
       "  <tbody>\n",
       "    <tr>\n",
       "      <th id=\"T_b1b1f_level0_row0\" class=\"row_heading level0 row0\" >0</th>\n",
       "      <td id=\"T_b1b1f_row0_col0\" class=\"data row0 col0\" >A</td>\n",
       "      <td id=\"T_b1b1f_row0_col1\" class=\"data row0 col1\" >10.46%</td>\n",
       "      <td id=\"T_b1b1f_row0_col2\" class=\"data row0 col2\" >5.08%</td>\n",
       "      <td id=\"T_b1b1f_row0_col3\" class=\"data row0 col3\" >6.28</td>\n",
       "      <td id=\"T_b1b1f_row0_col4\" class=\"data row0 col4\" >47.44</td>\n",
       "      <td id=\"T_b1b1f_row0_col5\" class=\"data row0 col5\" >860.71</td>\n",
       "    </tr>\n",
       "    <tr>\n",
       "      <th id=\"T_b1b1f_level0_row1\" class=\"row_heading level0 row1\" >1</th>\n",
       "      <td id=\"T_b1b1f_row1_col0\" class=\"data row1 col0\" >B</td>\n",
       "      <td id=\"T_b1b1f_row1_col1\" class=\"data row1 col1\" >11.36%</td>\n",
       "      <td id=\"T_b1b1f_row1_col2\" class=\"data row1 col2\" >4.61%</td>\n",
       "      <td id=\"T_b1b1f_row1_col3\" class=\"data row1 col3\" >8.01</td>\n",
       "      <td id=\"T_b1b1f_row1_col4\" class=\"data row1 col4\" >57.86</td>\n",
       "      <td id=\"T_b1b1f_row1_col5\" class=\"data row1 col5\" >1107.00</td>\n",
       "    </tr>\n",
       "  </tbody>\n",
       "</table>\n"
      ],
      "text/plain": [
       "<pandas.io.formats.style.Styler at 0x146fda890>"
      ]
     },
     "execution_count": 30,
     "metadata": {},
     "output_type": "execute_result"
    }
   ],
   "source": [
    "metrics.style.format(\n",
    "    {\n",
    "        \"CR_to_active\": \"{:.2%}\",\n",
    "        #'CR_to_purchase': '{:.2%}',\n",
    "        \"CR_active_to_purchase\": \"{:.2%}\",\n",
    "        \"ARPU\": \"{:.2f}\",\n",
    "        \"ARPAU\": \"{:.2f}\",\n",
    "        \"ARPPU\": \"{:.2f}\",\n",
    "    }\n",
    ")"
   ]
  },
  {
   "cell_type": "markdown",
   "metadata": {},
   "source": [
    "Проверим, является ли конверсия в покупку статистически значимой. Сформулируем гипотезы:\n",
    "\n",
    "**H0** - нет взаимосвязи между группой и оплатой.\n",
    "**H1** - оплата и группа взаимосвязаны.\n",
    "**Применим тест хи квадрат**"
   ]
  },
  {
   "cell_type": "code",
   "execution_count": 31,
   "metadata": {},
   "outputs": [
    {
     "data": {
      "image/png": "[encoded data removed]",
      "text/plain": [
       "<Figure size 800x500 with 2 Axes>"
      ]
     },
     "metadata": {},
     "output_type": "display_data"
    }
   ],
   "source": [
    "table = full_data.query(\"active\").pivot_table(\n",
    "    values=\"student_id\", index=\"group\", columns=\"purchase_active\", aggfunc=\"count\"\n",
    ")\n",
    "\n",
    "plt.figure(figsize=(8, 5))\n",
    "sns.heatmap(table, annot=True, fmt=\"d\", cmap=sns.cubehelix_palette(as_cmap=True))\n",
    "plt.show()"
   ]
  },
  {
   "cell_type": "code",
   "execution_count": 32,
   "metadata": {},
   "outputs": [
    {
     "name": "stdout",
     "output_type": "stream",
     "text": [
      "0.4280822964525912 0.6280206142073419\n"
     ]
    }
   ],
   "source": [
    "chi2, p, dof, ex = scipy.stats.chi2_contingency(table, correction=False)\n",
    "print(p, chi2)"
   ]
  },
  {
   "cell_type": "markdown",
   "metadata": {},
   "source": [
    "**p_value > 0.05.** Не можем отклонить нулевую гипотезу. Вывод - CR активного пользователя в покупку статистически **не изменилось**"
   ]
  },
  {
   "cell_type": "markdown",
   "metadata": {},
   "source": [
    "Проверим является ли изменение ARPPU (среднего дохода платящего пользователя) статистически значимым.\n",
    "Сформулируем гипотезы:\n",
    "\n",
    "* **H0** - различий между средними значениями нет.\n",
    "* **H1** - средние значения не равны\n",
    "\n",
    "Проверим, удовлетворяют ли данные критериями для проведения t-теста\n",
    "критерии:\n",
    "1. гомогенность дисперсии\n",
    "2. нормальное распределение среднего\n",
    "3. отсутствие значительных выбросов"
   ]
  },
  {
   "cell_type": "code",
   "execution_count": 33,
   "metadata": {},
   "outputs": [],
   "source": [
    "a_revenue = full_data.query(\"group == 'A' & ~revenue.isna()\").revenue\n",
    "b_revenue = full_data.query(\"group == 'B' & ~revenue.isna()\").revenue"
   ]
  },
  {
   "cell_type": "code",
   "execution_count": 34,
   "metadata": {},
   "outputs": [
    {
     "data": {
      "text/plain": [
       "LeveneResult(statistic=4.099799827819432, pvalue=0.04338169367714307)"
      ]
     },
     "execution_count": 34,
     "metadata": {},
     "output_type": "execute_result"
    }
   ],
   "source": [
    "scipy.stats.levene(a_revenue, b_revenue)"
   ]
  },
  {
   "cell_type": "markdown",
   "metadata": {},
   "source": [
    "p_value < 0.05, что позволяет нам отклонить нулевую гипотезу.\n",
    "Проверим выбросы"
   ]
  },
  {
   "cell_type": "code",
   "execution_count": 35,
   "metadata": {},
   "outputs": [
    {
     "name": "stderr",
     "output_type": "stream",
     "text": [
      "/var/folders/46/9vffld4939lbtd69_c_ftcx80000gn/T/ipykernel_83786/4223671626.py:1: FutureWarning: \n",
      "\n",
      "Passing `palette` without assigning `hue` is deprecated and will be removed in v0.14.0. Assign the `x` variable to `hue` and set `legend=False` for the same effect.\n",
      "\n",
      "  sns.boxplot(x=\"group\", y=\"revenue\", data=full_data, palette=\"pastel\")\n"
     ]
    },
    {
     "data": {
      "image/png": "[encoded data removed]",
      "text/plain": [
       "<Figure size 640x480 with 1 Axes>"
      ]
     },
     "metadata": {},
     "output_type": "display_data"
    }
   ],
   "source": [
    "sns.boxplot(x=\"group\", y=\"revenue\", data=full_data, palette=\"pastel\")\n",
    "plt.show()"
   ]
  },
  {
   "cell_type": "markdown",
   "metadata": {},
   "source": [
    "наблюдаются выбросы в обеих группах. \n",
    "Проверим распределение на нормальность c помощью теста **Шапиро-Уилка**"
   ]
  },
  {
   "cell_type": "code",
   "execution_count": 36,
   "metadata": {},
   "outputs": [
    {
     "data": {
      "text/plain": [
       "ShapiroResult(statistic=0.7196123600006104, pvalue=5.321687643507211e-13)"
      ]
     },
     "execution_count": 36,
     "metadata": {},
     "output_type": "execute_result"
    }
   ],
   "source": [
    "scipy.stats.shapiro(a_revenue)"
   ]
  },
  {
   "cell_type": "code",
   "execution_count": 37,
   "metadata": {},
   "outputs": [
    {
     "data": {
      "text/plain": [
       "ShapiroResult(statistic=0.8673096895217896, pvalue=9.537710927272242e-19)"
      ]
     },
     "execution_count": 37,
     "metadata": {},
     "output_type": "execute_result"
    }
   ],
   "source": [
    "scipy.stats.shapiro(b_revenue)"
   ]
  },
  {
   "cell_type": "markdown",
   "metadata": {},
   "source": [
    "в обоих случаях **p_value < 0.05**, что говорит нам о ненормальности распределения\n",
    "ни одно из условии t-теста не выполнено.\n",
    "воспользуемся **bootstrap**"
   ]
  },
  {
   "cell_type": "code",
   "execution_count": 38,
   "metadata": {},
   "outputs": [],
   "source": [
    "boot_len = full_data.groupby(\"group\").agg({\"purchase\": \"sum\"}).purchase.max()\n",
    "a = full_data.query(\"group == 'A' & ~revenue.isna()\").revenue\n",
    "b = full_data.query(\"group == 'B' & ~revenue.isna()\").revenue\n",
    "\n",
    "boot_data = []\n",
    "for _ in range(10000):\n",
    "    mean_a = np.mean(a.sample(boot_len, replace=True).values)\n",
    "    mean_b = np.mean(b.sample(boot_len, replace=True).values)\n",
    "    boot_data.append(mean_b - mean_a)\n",
    "\n",
    "pd_boot_data = pd.DataFrame(boot_data)\n",
    "quants = pd_boot_data.quantile([0.05 / 2, 1 - 0.05 / 2])"
   ]
  },
  {
   "cell_type": "code",
   "execution_count": 39,
   "metadata": {},
   "outputs": [
    {
     "data": {
      "image/png": "[encoded data removed]",
      "text/plain": [
       "<Figure size 640x480 with 1 Axes>"
      ]
     },
     "metadata": {},
     "output_type": "display_data"
    }
   ],
   "source": [
    "_, _, bars = plt.hist(pd_boot_data[0], bins=50)\n",
    "for bar in bars:\n",
    "    if bar.get_x() <= quants.iloc[0][0] or bar.get_x() >= quants.iloc[1][0]:\n",
    "        bar.set_facecolor(my_pallet[-1])\n",
    "    else:\n",
    "        bar.set_facecolor(my_pallet[0])\n",
    "        bar.set_edgecolor(\"black\")\n",
    "\n",
    "plt.vlines(quants, ymin=0, ymax=400, linestyle=\"--\", color=my_pallet[-1])\n",
    "plt.xlabel(\"boot_data\")\n",
    "plt.ylabel(\"frequency\")\n",
    "plt.show()"
   ]
  },
  {
   "cell_type": "code",
   "execution_count": 40,
   "metadata": {},
   "outputs": [
    {
     "data": {
      "text/plain": [
       "3.4197026100239503e-06"
      ]
     },
     "execution_count": 40,
     "metadata": {},
     "output_type": "execute_result"
    }
   ],
   "source": [
    "p_1 = scipy.stats.norm.cdf(0, np.mean(boot_data), np.std(boot_data))\n",
    "p_2 = scipy.stats.norm.cdf(0, -np.mean(boot_data), np.std(boot_data))\n",
    "p_value = min(p_1, p_2) * 2\n",
    "p_value"
   ]
  },
  {
   "cell_type": "markdown",
   "metadata": {},
   "source": [
    "**p-value < 0.05**\n",
    "У нас достаточно оснований отклонить нулевую гипотезу т.к. ARPPU в тестовой и контрольной группе статистически значимо отличаются."
   ]
  },
  {
   "cell_type": "markdown",
   "metadata": {},
   "source": [
    "**Вывод**\n",
    "**Целевой метрикой проведения A/B тестирования был выбран CR активного пользователя в покупку. CR статистически значимо не изменился.\n",
    "ARPPU статистически значимо увеличился. Возможно в дни эксперимента проводились какие-то акции.\n",
    "В любом случае можно оставить новую механику оплаты.**\n"
   ]
  },
  {
   "cell_type": "markdown",
   "metadata": {},
   "source": [
    "Реализую функцию, которая будет автоматически подгружать информацию из дополнительного файла groups_add.csv и на основании дополнительных параметров пересчитывать метрики."
   ]
  },
  {
   "cell_type": "code",
   "execution_count": 41,
   "metadata": {},
   "outputs": [
    {
     "data": {
      "text/html": [
       "<style type=\"text/css\">\n",
       "</style>\n",
       "<table id=\"T_4300c\">\n",
       "  <thead>\n",
       "    <tr>\n",
       "      <th class=\"blank level0\" >&nbsp;</th>\n",
       "      <th id=\"T_4300c_level0_col0\" class=\"col_heading level0 col0\" >group</th>\n",
       "      <th id=\"T_4300c_level0_col1\" class=\"col_heading level0 col1\" >CR_to_active</th>\n",
       "      <th id=\"T_4300c_level0_col2\" class=\"col_heading level0 col2\" >CR_active_to_purchase</th>\n",
       "      <th id=\"T_4300c_level0_col3\" class=\"col_heading level0 col3\" >ARPU</th>\n",
       "      <th id=\"T_4300c_level0_col4\" class=\"col_heading level0 col4\" >ARPAU</th>\n",
       "      <th id=\"T_4300c_level0_col5\" class=\"col_heading level0 col5\" >ARPPU</th>\n",
       "    </tr>\n",
       "  </thead>\n",
       "  <tbody>\n",
       "    <tr>\n",
       "      <th id=\"T_4300c_level0_row0\" class=\"row_heading level0 row0\" >0</th>\n",
       "      <td id=\"T_4300c_row0_col0\" class=\"data row0 col0\" >A</td>\n",
       "      <td id=\"T_4300c_row0_col1\" class=\"data row0 col1\" >10.47%</td>\n",
       "      <td id=\"T_4300c_row0_col2\" class=\"data row0 col2\" >5.07%</td>\n",
       "      <td id=\"T_4300c_row0_col3\" class=\"data row0 col3\" >6.27</td>\n",
       "      <td id=\"T_4300c_row0_col4\" class=\"data row0 col4\" >47.35</td>\n",
       "      <td id=\"T_4300c_row0_col5\" class=\"data row0 col5\" >860.71</td>\n",
       "    </tr>\n",
       "    <tr>\n",
       "      <th id=\"T_4300c_level0_row1\" class=\"row_heading level0 row1\" >1</th>\n",
       "      <td id=\"T_4300c_row1_col0\" class=\"data row1 col0\" >B</td>\n",
       "      <td id=\"T_4300c_row1_col1\" class=\"data row1 col1\" >11.36%</td>\n",
       "      <td id=\"T_4300c_row1_col2\" class=\"data row1 col2\" >4.62%</td>\n",
       "      <td id=\"T_4300c_row1_col3\" class=\"data row1 col3\" >8.04</td>\n",
       "      <td id=\"T_4300c_row1_col4\" class=\"data row1 col4\" >58.06</td>\n",
       "      <td id=\"T_4300c_row1_col5\" class=\"data row1 col5\" >1108.82</td>\n",
       "    </tr>\n",
       "  </tbody>\n",
       "</table>\n"
      ],
      "text/plain": [
       "<pandas.io.formats.style.Styler at 0x168598130>"
      ]
     },
     "execution_count": 41,
     "metadata": {},
     "output_type": "execute_result"
    }
   ],
   "source": [
    "def get_metrics(\n",
    "    active_students_path: str,\n",
    "    checks_path: str,\n",
    "    groups_path: str,\n",
    "    groups_add_path: str,\n",
    ") -> pd.DataFrame:\n",
    "    active_studs = pd.read_csv(active_students_path)\n",
    "    checks = pd.read_csv(\n",
    "        checks_path,\n",
    "        sep=\";\",\n",
    "        names=[\"student_id\", \"revenue\"],\n",
    "        header=None,\n",
    "        skiprows=1,\n",
    "    )\n",
    "\n",
    "    groups = pd.read_csv(\n",
    "        groups_path,\n",
    "        sep=\";\",\n",
    "        names=[\"student_id\", \"group\"],\n",
    "        header=None,\n",
    "        skiprows=1,\n",
    "    )\n",
    "    group_add = pd.read_csv(\n",
    "        groups_add_path,\n",
    "        sep=\",\",\n",
    "        names=[\"student_id\", \"group\"],\n",
    "        header=None,\n",
    "        skiprows=1,\n",
    "    )\n",
    "\n",
    "    groups = pd.concat([groups, group_add])\n",
    "\n",
    "    groups = groups.sort_values(\"group\")\n",
    "\n",
    "    groups[\"active\"] = groups.student_id.isin(active_studs.student_id)\n",
    "\n",
    "    groups.dropna(subset=[\"group\"], inplace=True)\n",
    "\n",
    "    checks[\"purchase\"] = True\n",
    "\n",
    "    full_data = groups.merge(checks, how=\"left\", on=\"student_id\")\n",
    "\n",
    "    full_data[\"revenue_all\"] = full_data.apply(lambda x: max(0, x.revenue), axis=1)\n",
    "    full_data[\"revenue_active\"] = full_data.apply(\n",
    "        lambda x: max(0, x.revenue) if x.active else np.nan, axis=1\n",
    "    )\n",
    "    full_data[\"purchase_active\"] = full_data.apply(\n",
    "        lambda x: x.revenue_active > 0 if x.active else np.nan, axis=1\n",
    "    )\n",
    "\n",
    "    rename = {\n",
    "        \"active\": \"CR_to_active\",\n",
    "        \"purchase_active\": \"CR_active_to_purchase\",\n",
    "        \"revenue_all\": \"ARPU\",\n",
    "        \"revenue_active\": \"ARPAU\",\n",
    "        \"revenue\": \"ARPPU\",\n",
    "    }\n",
    "\n",
    "    metrics = (\n",
    "        full_data.groupby(\"group\", as_index=False)\n",
    "        .agg(\n",
    "            {\n",
    "                \"active\": \"mean\",\n",
    "                \"purchase_active\": \"mean\",\n",
    "                \"revenue_all\": \"mean\",\n",
    "                \"revenue_active\": \"mean\",\n",
    "                \"revenue\": \"mean\",\n",
    "            }\n",
    "        )\n",
    "        .rename(columns=rename)\n",
    "    )\n",
    "\n",
    "    return metrics\n",
    "\n",
    "\n",
    "metrics = get_metrics(\n",
    "    active_students_path=\"Проект_2_active_studs.csv\",\n",
    "    checks_path=\"Проект_2_checks.csv\",\n",
    "    groups_path=\"Проект_2_groups.csv\",\n",
    "    groups_add_path=\"Проект_2_group_add.csv\",\n",
    ")\n",
    "\n",
    "metrics.style.format(\n",
    "    {\n",
    "        \"CR_to_active\": \"{:.2%}\",\n",
    "        \"CR_active_to_purchase\": \"{:.2%}\",\n",
    "        \"ARPU\": \"{:.2f}\",\n",
    "        \"ARPAU\": \"{:.2f}\",\n",
    "        \"ARPPU\": \"{:.2f}\",\n",
    "    }\n",
    ")"
   ]
  },
  {
   "cell_type": "markdown",
   "metadata": {},
   "source": [
    "Также написала функцию, которая будет строить графики по получаемым метрикам."
   ]
  },
  {
   "cell_type": "code",
   "execution_count": 42,
   "metadata": {},
   "outputs": [],
   "source": [
    "def get_graphics1(metrics):\n",
    "    # установим размер\n",
    "    plt.figure(figsize=(20, 6))\n",
    "    # ARPPU\n",
    "    plt.subplot(1, 3, 1)\n",
    "    bar = sns.barplot(x=\"group\", y=\"ARPPU\", data=metrics)\n",
    "    # назначаем названия\n",
    "    bar.axes.set_title(\"ARPPU\", fontsize=16)\n",
    "    bar.set_xlabel(\"Group\", fontsize=12)\n",
    "    bar.set_ylabel(\"ARPPU\", fontsize=12)\n",
    "    bar.bar_label(bar.containers[0])\n",
    "    plt.xticks(fontsize=12)\n",
    "    plt.yticks(fontsize=12)\n",
    "    # ARPU\n",
    "    plt.subplot(1, 3, 2)\n",
    "    bar = sns.barplot(x=\"group\", y=\"ARPU\", data=metrics)\n",
    "    bar.axes.set_title(\"ARPU\", fontsize=16)\n",
    "    bar.set_xlabel(\"Group\", fontsize=12)\n",
    "    bar.set_ylabel(\"ARPU\", fontsize=12)\n",
    "    bar.bar_label(bar.containers[0])\n",
    "    plt.xticks(fontsize=12)\n",
    "    plt.yticks(fontsize=12)\n",
    "    # ARPAU\n",
    "    plt.subplot(1, 3, 3)\n",
    "    bar = sns.barplot(x=\"group\", y=\"ARPAU\", data=metrics)\n",
    "    bar.axes.set_title(\"ARPAU\", fontsize=16)\n",
    "    bar.set_xlabel(\"Group\", fontsize=12)\n",
    "    bar.set_ylabel(\"ARPAU\", fontsize=12)\n",
    "    bar.bar_label(bar.containers[0])\n",
    "    plt.xticks(fontsize=12)\n",
    "    plt.yticks(fontsize=12)"
   ]
  },
  {
   "cell_type": "code",
   "execution_count": 43,
   "metadata": {},
   "outputs": [
    {
     "data": {
      "image/png": "[encoded data removed]",
      "text/plain": [
       "<Figure size 2000x600 with 3 Axes>"
      ]
     },
     "metadata": {},
     "output_type": "display_data"
    }
   ],
   "source": [
    "get_graphics1(metrics)"
   ]
  },
  {
   "cell_type": "code",
   "execution_count": 44,
   "metadata": {},
   "outputs": [],
   "source": [
    "def get_graphics2(metrics):\n",
    "    # установим размер\n",
    "    plt.figure(figsize=(15, 6))\n",
    "    # CR_to_active\n",
    "    plt.subplot(1, 3, 1)\n",
    "    bar = sns.barplot(x=\"group\", y=\"ARPPU\", data=metrics)\n",
    "    # назначаем названия\n",
    "    bar.axes.set_title(\"CR_to_active\", fontsize=16)\n",
    "    bar.set_xlabel(\"Group\", fontsize=12)\n",
    "    bar.set_ylabel(\"CR_to_active\", fontsize=12)\n",
    "    bar.bar_label(bar.containers[0])\n",
    "    plt.xticks(fontsize=12)\n",
    "    plt.yticks(fontsize=12)\n",
    "    # CR_active_to_purchase\n",
    "    plt.subplot(1, 3, 2)\n",
    "    bar = sns.barplot(x=\"group\", y=\"CR_active_to_purchase\", data=metrics)\n",
    "    bar.axes.set_title(\"CR_active_to_purchase\", fontsize=16)\n",
    "    bar.set_xlabel(\"Group\", fontsize=12)\n",
    "    bar.set_ylabel(\"CR_active_to_purchase\", fontsize=12)\n",
    "    bar.bar_label(bar.containers[0])\n",
    "    plt.xticks(fontsize=12)\n",
    "    plt.yticks(fontsize=12)"
   ]
  },
  {
   "cell_type": "code",
   "execution_count": 45,
   "metadata": {},
   "outputs": [
    {
     "data": {
      "image/png": "[encoded data removed]",
      "text/plain": [
       "<Figure size 1500x600 with 2 Axes>"
      ]
     },
     "metadata": {},
     "output_type": "display_data"
    }
   ],
   "source": [
    "get_graphics2(metrics)"
   ]
  }
 ],
 "metadata": {
  "kernelspec": {
   "display_name": "Python 3",
   "language": "python",
   "name": "python3"
  },
  "language_info": {
   "codemirror_mode": {
    "name": "ipython",
    "version": 3
   },
   "file_extension": ".py",
   "mimetype": "text/x-python",
   "name": "python",
   "nbconvert_exporter": "python",
   "pygments_lexer": "ipython3",
   "version": "3.10.12"
  }
 },
 "nbformat": 4,
 "nbformat_minor": 2
}
